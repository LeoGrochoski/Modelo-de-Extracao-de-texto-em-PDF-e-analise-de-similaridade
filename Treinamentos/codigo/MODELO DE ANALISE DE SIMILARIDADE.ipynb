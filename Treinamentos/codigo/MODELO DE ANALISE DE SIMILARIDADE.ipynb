{
 "cells": [
  {
   "cell_type": "markdown",
   "id": "a458d522",
   "metadata": {},
   "source": [
    "# MODELO DE ANALISE DE SIMILARIDADE"
   ]
  },
  {
   "cell_type": "code",
   "execution_count": 7,
   "id": "596f78f0",
   "metadata": {},
   "outputs": [
    {
     "name": "stdout",
     "output_type": "stream",
     "text": [
      "Requirement already satisfied: pdfminer in c:\\users\\qy526ut\\anaconda3\\lib\\site-packages (20191125)\n",
      "Requirement already satisfied: pycryptodome in c:\\users\\qy526ut\\anaconda3\\lib\\site-packages (from pdfminer) (3.17)\n",
      "Note: you may need to restart the kernel to use updated packages.\n"
     ]
    }
   ],
   "source": [
    "pip install pdfminer"
   ]
  },
  {
   "cell_type": "code",
   "execution_count": 8,
   "id": "cfc997ea",
   "metadata": {
    "scrolled": true
   },
   "outputs": [
    {
     "name": "stdout",
     "output_type": "stream",
     "text": [
      "Requirement already satisfied: pdfminer-six in c:\\users\\qy526ut\\anaconda3\\lib\\site-packages (20221105)\n",
      "Requirement already satisfied: charset-normalizer>=2.0.0 in c:\\users\\qy526ut\\anaconda3\\lib\\site-packages (from pdfminer-six) (2.0.4)\n",
      "Requirement already satisfied: cryptography>=36.0.0 in c:\\users\\qy526ut\\anaconda3\\lib\\site-packages (from pdfminer-six) (40.0.2)\n",
      "Requirement already satisfied: cffi>=1.12 in c:\\users\\qy526ut\\anaconda3\\lib\\site-packages (from cryptography>=36.0.0->pdfminer-six) (1.15.0)\n",
      "Requirement already satisfied: pycparser in c:\\users\\qy526ut\\anaconda3\\lib\\site-packages (from cffi>=1.12->cryptography>=36.0.0->pdfminer-six) (2.21)\n",
      "Note: you may need to restart the kernel to use updated packages.\n"
     ]
    }
   ],
   "source": [
    "pip install pdfminer-six"
   ]
  },
  {
   "cell_type": "code",
   "execution_count": 13,
   "id": "43ae63aa",
   "metadata": {},
   "outputs": [],
   "source": [
    "import io\n",
    "import re\n",
    "import string\n",
    "from sklearn.feature_extraction.text import TfidfVectorizer\n",
    "from sklearn.metrics.pairwise import cosine_similarity\n",
    "from pdfminer.high_level import extract_text"
   ]
  },
  {
   "cell_type": "code",
   "execution_count": 22,
   "id": "91559192",
   "metadata": {},
   "outputs": [],
   "source": [
    "# Função para pré-processar o texto\n",
    "\n",
    "def preprocess_text(text):\n",
    "    # Converte todo o texto para minúsculas\n",
    "    text = text.lower()\n",
    "    # Remove caracteres especiais, mantendo palavras com acentos e cedilha\n",
    "    text = re.sub(r'[^a-záàâãéèêíïóôõöúçñ ]', '', text)\n",
    "    # Remove pontuações\n",
    "    text = text.translate(str.maketrans('', '', string.punctuation))\n",
    "    # Remove espaços em branco extras\n",
    "    text = re.sub(r'\\s+', ' ', text).strip()\n",
    "    return text\n"
   ]
  },
  {
   "cell_type": "code",
   "execution_count": 23,
   "id": "729ebfcb",
   "metadata": {},
   "outputs": [],
   "source": [
    "# Imputar os arquivos PDF\n",
    "pdf_dir1 = '../dados/job1.pdf'\n",
    "pdf_dir2 = '../dados/job2.pdf'"
   ]
  },
  {
   "cell_type": "code",
   "execution_count": 24,
   "id": "ac7302ae",
   "metadata": {},
   "outputs": [],
   "source": [
    "# Ler os PDFs e extrair o texto\n",
    "text1 = extract_text(pdf_dir1)\n",
    "text2 = extract_text(pdf_dir2)\n",
    "\n",
    "# Pré-processar o texto\n",
    "text1 = preprocess_text(text1)\n",
    "text2 = preprocess_text(text2)\n",
    "\n"
   ]
  },
  {
   "cell_type": "code",
   "execution_count": 25,
   "id": "d6fb1b85",
   "metadata": {
    "scrolled": true
   },
   "outputs": [
    {
     "data": {
      "text/plain": [
       "'cientista de machine learningdbc company brasil remoto há  semana  mais de  candidaturas tempo integral  plenosênior  funcionários  serviços e consultoria de ti competências ciência de dados aprendizagem profunda e mais cientista de machine learningdbc company brasil remotoatuar como cientista de dados em cliente do ramo financeiro aws jupiter notebook python scala databricks dockerdiferencial power bi liderança de times vivência com estruturação de novos processos vivência na área nanceira somos a  melhor empresa para trabalhar do brasil e  melhor empresa para trabalharno rio grande do sul segundo o gptw  todas as nossas pessoas prossionais que estão alocadas em clientes eou projetossão acompanhadas por gestor da dbc e também por líder de smartsourcing  das nossas operações atuam em home oce a dbc oferece incentivo a certicações e universidade corporativa através de acesso fullao linkedin learning concedido a  das pessoas colaboradoras nosso time promove um ambiente seguro para todas as pessoas prossionaisindependente de sua etnia crença religiosa orientação sexual identidade de gênerodeciência idade etc oportunidade  home oce'"
      ]
     },
     "execution_count": 25,
     "metadata": {},
     "output_type": "execute_result"
    }
   ],
   "source": [
    "# Demonstrando texto extraido do PDF1\n",
    "\n",
    "text1"
   ]
  },
  {
   "cell_type": "code",
   "execution_count": 26,
   "id": "df606f3e",
   "metadata": {},
   "outputs": [
    {
     "data": {
      "text/plain": [
       "'engenharia de machine learningitaú unibanco  são paulo brasil híbrido há  meses  mais de  candidaturas tempo integral  plenosênior  de  funcionários  bancos competências sql git e mais engenharia de machine learningitaú unibanco são paulo brasil híbridovem construir a área de tecnologia do itaúsomos uma área que busca ser cada vez mais digital nas soluções humana naexperiência e no contato com as pessoas queremos as pessoas inconformadas asinquietas as indignadas e apaixonadas por tecnologiaqueremos ser a empresa que pessoas de todos os gêneros raça idade classeorientação sexual e com deciência escolham como lugar onde vão se desenvolvere contribuir para transformar as experiências dos nossos clientesnão queremos você apenas por achar que tem a nossa cara queremos ter umpouco da sua tambémo que esperamos de vocêestamos buscando pessoas que queiram se desenvolver e aprenderconstantemente compartilhando colaborando inovando e entregando valor paratodos os nossos clientescomo será o seu dia a diaseu dia a dia será bem dinâmico e com bastante interlocução junto as demaisequipes de tecnologia e negóciosprérequisitos conseguir traduzir as demandas de negócios em desenvolvimentotecnológico conhecimento de cloud aws azure eou google cloud certicação awsserá um diferencial conhecimento das tecnologias aws ex sagemaker cloudformation conhecimentos de python sas sql git e padrões de desenvolvimento desoftware conhecimento das ferramentas de big data como spark hive impala kafkanosql entre outrasdiferencial certicação em cloud pública awscom quais benefícios vou poder contar vale transporte vale refeição restaurantes  vale alimentação supermercados convênio médico e odontológico seguro de vida plr mediante resultados do banco previdência privada descontos exclusivos em nossos produtos nanceiros licença maternidade estendida auxílio creche  babá para papais e mamães incentivo a estudos gym pass mas se preferir temos bio ritmo em alguns polos acesso aos clubes itaú guarapiranga  itanhaém e são sebastião  algumas vantagens que você pode conhecer durante o processo todas as nossas oportunidades são abertas para pessoas com deciência '"
      ]
     },
     "execution_count": 26,
     "metadata": {},
     "output_type": "execute_result"
    }
   ],
   "source": [
    "# Demonstrando texto extraido do PDF2\n",
    "\n",
    "text2"
   ]
  },
  {
   "cell_type": "code",
   "execution_count": 27,
   "id": "abe9abd3",
   "metadata": {},
   "outputs": [],
   "source": [
    "# Calcular a similaridade\n",
    "\n",
    "corpus = [text1, text2]\n",
    "vectorizer = TfidfVectorizer()\n",
    "tfidf = vectorizer.fit_transform(corpus)\n",
    "similarity = cosine_similarity(tfidf)[0,1]\n",
    "\n"
   ]
  },
  {
   "cell_type": "code",
   "execution_count": 28,
   "id": "066750f4",
   "metadata": {},
   "outputs": [],
   "source": [
    "# Gerar a nota de similaridade\n",
    "if similarity > 0.9:\n",
    "    similarity_score = 'Similares'\n",
    "elif similarity > 0.5:\n",
    "    similarity_score = 'Pouco similares'\n",
    "else:\n",
    "    similarity_score = 'Não similares'"
   ]
  },
  {
   "cell_type": "code",
   "execution_count": 29,
   "id": "68d7c191",
   "metadata": {},
   "outputs": [
    {
     "name": "stdout",
     "output_type": "stream",
     "text": [
      "A similaridade entre os documentos é de 0.43. E o resultado do teste de similaridade entre os textos é que são: Não similares.\n"
     ]
    }
   ],
   "source": [
    "# Apresentar os resultados\n",
    "print(f\"A similaridade entre os documentos é de {similarity:.2f}. E o resultado do teste de similaridade entre os textos é que são: {similarity_score}.\")"
   ]
  }
 ],
 "metadata": {
  "kernelspec": {
   "display_name": "Python 3 (ipykernel)",
   "language": "python",
   "name": "python3"
  },
  "language_info": {
   "codemirror_mode": {
    "name": "ipython",
    "version": 3
   },
   "file_extension": ".py",
   "mimetype": "text/x-python",
   "name": "python",
   "nbconvert_exporter": "python",
   "pygments_lexer": "ipython3",
   "version": "3.9.12"
  }
 },
 "nbformat": 4,
 "nbformat_minor": 5
}
